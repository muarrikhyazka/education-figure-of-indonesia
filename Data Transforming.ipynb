{
 "cells": [
  {
   "cell_type": "code",
   "execution_count": 1,
   "id": "3aeaf8dc",
   "metadata": {},
   "outputs": [],
   "source": [
    "import pandas as pd"
   ]
  },
  {
   "cell_type": "code",
   "execution_count": null,
   "id": "f7838623",
   "metadata": {},
   "outputs": [],
   "source": [
    "## Rencana Analisis\n",
    "# Bandingin metrics2 prov sama metrics indonesia, siapa2 yg di bawah\n",
    "# Compare kuantitas sama metrics, relasinya gmn\n",
    "# Trend tahun ke tahun semua metrics dan kuantitas, scalenya distandarisasi biar semuanya bisa satu grafik. Ini bisa make angka Indo\n"
   ]
  }
 ],
 "metadata": {
  "kernelspec": {
   "display_name": "Python 3",
   "language": "python",
   "name": "python3"
  },
  "language_info": {
   "codemirror_mode": {
    "name": "ipython",
    "version": 3
   },
   "file_extension": ".py",
   "mimetype": "text/x-python",
   "name": "python",
   "nbconvert_exporter": "python",
   "pygments_lexer": "ipython3",
   "version": "3.8.8"
  }
 },
 "nbformat": 4,
 "nbformat_minor": 5
}
